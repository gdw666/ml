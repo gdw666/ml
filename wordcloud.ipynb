{
 "cells": [
  {
   "cell_type": "code",
   "execution_count": 3,
   "id": "9dc8385c",
   "metadata": {},
   "outputs": [
    {
     "data": {
      "text/plain": [
       "<wordcloud.wordcloud.WordCloud at 0x25c86c25610>"
      ]
     },
     "execution_count": 3,
     "metadata": {},
     "output_type": "execute_result"
    }
   ],
   "source": [
    "# 1号词云：葛底斯堡演说黑色背景词云\n",
    "\n",
    "# 导入词云制作第三方库wordcloud\n",
    "import wordcloud\n",
    "\n",
    "# 创建词云对象，赋值给w，现在w就表示了一个词云对象\n",
    "# 可以在WordCloud()括号里填入各种参数，控制词云的字体、字号、字的颜色、背景颜色等等\n",
    "w = wordcloud.WordCloud()\n",
    "\n",
    "# 调用词云对象的generate方法，将文本传入\n",
    "w.generate('and that government of the people, by the people, for the people, shall not perish from the earth.')\n",
    "\n",
    "# 将生成的词云保存为output1.png图片文件，保存出到当前文件夹中\n",
    "w.to_file('output1.png')"
   ]
  },
  {
   "cell_type": "code",
   "execution_count": 4,
   "id": "ffd1fb47",
   "metadata": {},
   "outputs": [
    {
     "data": {
      "text/plain": [
       "<wordcloud.wordcloud.WordCloud at 0x25c86b14190>"
      ]
     },
     "execution_count": 4,
     "metadata": {},
     "output_type": "execute_result"
    }
   ],
   "source": [
    "import wordcloud\n",
    "\n",
    "# 从外部.txt文件中读取大段文本，存入变量txt中\n",
    "f = open('1.txt', encoding='utf-8')\n",
    "txt = f.read()\n",
    "\n",
    "# 构建词云对象w，设置词云图片宽、高、字体、背景颜色等参数\n",
    "w = wordcloud.WordCloud(width=1000,\n",
    "                        height=700,\n",
    "                        background_color='white',\n",
    "                        font_path='msyh.ttc')\n",
    "\n",
    "# 将txt变量传入w的generate()方法，给词云输入文字\n",
    "w.generate(txt)\n",
    "\n",
    "# 将词云图片导出到当前文件夹\n",
    "w.to_file('output3-sentence.png')"
   ]
  },
  {
   "cell_type": "code",
   "execution_count": null,
   "id": "924223a8",
   "metadata": {},
   "outputs": [],
   "source": [
    "# 4号词云：同济大学介绍词云\n",
    "# 导入词云制作库wordcloud和中文分词库jieba\n",
    "import jieba\n",
    "import wordcloud\n",
    "# 构建并配置词云对象w\n",
    "w = wordcloud.WordCloud(width=1000,\n",
    "                        height=700,\n",
    "                        background_color='white',\n",
    "                        font_path='msyh.ttc')\n",
    "\n",
    "# 调用jieba的lcut()方法对原始文本进行中文分词，得到string\n",
    "txt = '同济大学（Tongji University），简称“同济”，是中华人民共和国教育部直属，由教育部、国家海洋局和上海市共建的全国重点大学，历史悠久、声誉卓著，是国家“双一流”、“211工程”、“985工程”重点建设高校，也是收生标准最严格的中国大学之一'\n",
    "# txt ='中国科学院大学（University of Chinese Academy of Sciences）简称“国科大”，是一所以科教融合为办学模式、研究生教育为办学主体的创新型大学，入选国家“世界一流学科建设高校”、“基础学科拔尖学生培养试验计划”，环太平洋大学联盟、京港大学联盟、中国高校行星科学联盟、中欧商校联盟成员，首批学位授权自主审核单位。'\n",
    "txtlist = jieba.lcut(txt)\n",
    "string = \" \".join(txtlist)\n",
    "\n",
    "# 将string变量传入w的generate()方法，给词云输入文字\n",
    "w.generate(string)\n",
    "\n",
    "# 将词云图片导出到当前文件夹\n",
    "w.to_file('output4-tongji.png')"
   ]
  },
  {
   "cell_type": "code",
   "execution_count": 11,
   "id": "be4a27c3",
   "metadata": {},
   "outputs": [
    {
     "data": {
      "text/plain": [
       "<wordcloud.wordcloud.WordCloud at 0x25c88722b50>"
      ]
     },
     "execution_count": 11,
     "metadata": {},
     "output_type": "execute_result"
    }
   ],
   "source": [
    "# 5号词云：乡村振兴战略中央文件（词云）\n",
    "# 导入词云制作库wordcloud和中文分词库jieba\n",
    "import jieba\n",
    "import wordcloud\n",
    "\n",
    "# 构建并配置词云对象w\n",
    "w = wordcloud.WordCloud(width=1000,\n",
    "                        height=700,\n",
    "                        stopwords={\"和\", \"的\",\"在\",\"关键词\",\"摘要\",\"是\",\"与\",\"了\"},  # 取消注释加入此参数，可以去掉词云图片中的\"和\"和\"的\"\n",
    "                        background_color='white',\n",
    "                        font_path='msyh.ttc')\n",
    "\n",
    "\n",
    "# 对来自外部文件的文本进行中文分词，得到string\n",
    "f = open('1.txt',encoding='utf-8')\n",
    "txt = f.read()\n",
    "txtlist = jieba.lcut(txt)\n",
    "string = \" \".join(txtlist)\n",
    "\n",
    "# 将string变量传入w的generate()方法，给词云输入文字\n",
    "w.generate(string)\n",
    "\n",
    "# 将词云图片导出到当前文件夹\n",
    "w.to_file('6.png')"
   ]
  },
  {
   "cell_type": "code",
   "execution_count": 19,
   "id": "344386c3",
   "metadata": {},
   "outputs": [
    {
     "data": {
      "text/plain": [
       "<wordcloud.wordcloud.WordCloud at 0x25c858d2cd0>"
      ]
     },
     "execution_count": 19,
     "metadata": {},
     "output_type": "execute_result"
    }
   ],
   "source": [
    "import wordcloud\n",
    "# 导入imageio库中的imread函数，并用这个函数读取本地图片，作为词云形状图片\n",
    "import imageio\n",
    "\n",
    "# 将外部文件包含的文本保存在string变量中\n",
    "# 对来自外部文件的文本进行中文分词，得到string\n",
    "f = open('2.txt',encoding='utf-8')\n",
    "txt = f.read()\n",
    "txtlist = jieba.lcut(txt)\n",
    "string = \" \".join(txtlist)\n",
    "\n",
    "\n",
    "mk = imageio.imread(\"bj.png\")\n",
    "\n",
    "# 构建词云对象w，注意增加参数contour_width和contour_color设置轮廓宽度和颜色\n",
    "w = wordcloud.WordCloud(background_color=\"white\",\n",
    "                        mask=mk,\n",
    "                        stopwords={\"和\", \"的\",\"在\",\"关键词\",\"摘要\",\"是\",\"与\",\"了\"},  # 取消注释加入此参数，可以去掉词云图片中的\"和\"和\"的\"\n",
    "                        contour_width=1,\n",
    "                        contour_color='white',\n",
    "                        font_path='msyh.ttc')\n",
    "\n",
    "# # 将string变量传入w的generate()方法，给词云输入文字\n",
    "w.generate(string)\n",
    "\n",
    "# 将词云图片导出到当前文件夹\n",
    "w.to_file('output9-contour.png')"
   ]
  }
 ],
 "metadata": {
  "kernelspec": {
   "display_name": "Python 3 (ipykernel)",
   "language": "python",
   "name": "python3"
  },
  "language_info": {
   "codemirror_mode": {
    "name": "ipython",
    "version": 3
   },
   "file_extension": ".py",
   "mimetype": "text/x-python",
   "name": "python",
   "nbconvert_exporter": "python",
   "pygments_lexer": "ipython3",
   "version": "3.9.12"
  }
 },
 "nbformat": 4,
 "nbformat_minor": 5
}
