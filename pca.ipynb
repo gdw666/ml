{
 "cells": [
  {
   "cell_type": "markdown",
   "metadata": {},
   "source": [
    "[PCA （主成分分析）详解 （写给初学者）](https://blog.csdn.net/a8039974/article/details/81285238)  \n",
    "[主成分分析（PCA）原理详解](https://blog.csdn.net/program_developer/article/details/80632779)"
   ]
  },
  {
   "cell_type": "markdown",
   "metadata": {},
   "source": [
    "协方差矩阵：  \n",
    "$$C = \\begin{pmatrix}\n",
    "    cov(x,x) &cov(x,y)  & cov(x,z) \\\\\n",
    "   cov(y,x)  & cov(y,y) &  cov(y,z) \\\\\n",
    "   cov(z,x)  & cov(z,y) &cov(z,z)   \\\\\n",
    "\\end{pmatrix}\\qquad$$  \n",
    "从协方差矩阵上，可以得到变量之间两两的相关性"
   ]
  },
  {
   "cell_type": "code",
   "execution_count": 1,
   "metadata": {
    "ExecuteTime": {
     "end_time": "2019-12-16T12:37:51.830870Z",
     "start_time": "2019-12-16T12:37:51.604096Z"
    }
   },
   "outputs": [],
   "source": [
    "import numpy as np\n",
    "#设置一下np的输出格式\n",
    "np.set_printoptions(threshold=100,precision= 4,suppress=True)\n"
   ]
  },
  {
   "cell_type": "code",
   "execution_count": 3,
   "metadata": {
    "ExecuteTime": {
     "end_time": "2019-12-16T12:37:52.323145Z",
     "start_time": "2019-12-16T12:37:52.301233Z"
    }
   },
   "outputs": [
    {
     "data": {
      "text/plain": [
       "array([[5.93932154, 4.88413414],\n",
       "       [6.42487038, 4.40906945],\n",
       "       [4.81289319, 2.25236405],\n",
       "       [4.9382849 , 3.59125916],\n",
       "       [9.67296484, 3.30958013],\n",
       "       [8.12552534, 4.62244676],\n",
       "       [6.11240105, 1.62961367],\n",
       "       [1.63932452, 2.59833793],\n",
       "       [1.18196558, 0.67837608],\n",
       "       [8.00341076, 3.66035314]])"
      ]
     },
     "execution_count": 3,
     "metadata": {},
     "output_type": "execute_result"
    }
   ],
   "source": [
    "# 计算以下数据的协方差矩阵\n",
    "import numpy as np\n",
    "np.random.seed(0)\n",
    "data = np.random.uniform(1,10,(10,2))\n",
    "data\n",
    "\n"
   ]
  },
  {
   "cell_type": "markdown",
   "metadata": {},
   "source": [
    "必须去中心化"
   ]
  },
  {
   "cell_type": "code",
   "execution_count": 10,
   "metadata": {
    "ExecuteTime": {
     "end_time": "2019-12-16T12:37:54.514285Z",
     "start_time": "2019-12-16T12:37:54.508335Z"
    }
   },
   "outputs": [
    {
     "data": {
      "text/plain": [
       "array([[ 0.25422532,  1.72058069],\n",
       "       [ 0.73977417,  1.245516  ],\n",
       "       [-0.87220302, -0.9111894 ],\n",
       "       [-0.74681131,  0.42770571],\n",
       "       [ 3.98786863,  0.14602668],\n",
       "       [ 2.44042913,  1.45889331],\n",
       "       [ 0.42730484, -1.53393977],\n",
       "       [-4.04577169, -0.56521552],\n",
       "       [-4.50313063, -2.48517737],\n",
       "       [ 2.31831455,  0.49679969]])"
      ]
     },
     "execution_count": 10,
     "metadata": {},
     "output_type": "execute_result"
    }
   ],
   "source": [
    "data_norm = data-data.mean(axis = 0)\n",
    "data_norm"
   ]
  },
  {
   "cell_type": "code",
   "execution_count": 11,
   "metadata": {
    "ExecuteTime": {
     "end_time": "2019-12-16T12:37:55.189482Z",
     "start_time": "2019-12-16T12:37:55.181529Z"
    }
   },
   "outputs": [
    {
     "data": {
      "text/plain": [
       "(array([ 0.25422532,  0.73977417, -0.87220302, -0.74681131,  3.98786863,\n",
       "         2.44042913,  0.42730484, -4.04577169, -4.50313063,  2.31831455]),\n",
       " array([ 1.72058069,  1.245516  , -0.9111894 ,  0.42770571,  0.14602668,\n",
       "         1.45889331, -1.53393977, -0.56521552, -2.48517737,  0.49679969]))"
      ]
     },
     "execution_count": 11,
     "metadata": {},
     "output_type": "execute_result"
    }
   ],
   "source": [
    "X = data_norm[:,0]\n",
    "Y = data_norm[:,1]\n",
    "X,Y"
   ]
  },
  {
   "cell_type": "code",
   "execution_count": 12,
   "metadata": {
    "ExecuteTime": {
     "end_time": "2019-12-16T12:37:55.799853Z",
     "start_time": "2019-12-16T12:37:55.793859Z"
    }
   },
   "outputs": [],
   "source": [
    "# 定义一个函数，输入X，Y能得到X，Y之间的协方差\n",
    "def getcov(X,Y):\n",
    "\n",
    "    covxy = ((X-X.mean())*(Y-Y.mean())).sum()/(len(X)-1)\n",
    "\n",
    "    return covxy"
   ]
  },
  {
   "cell_type": "code",
   "execution_count": 13,
   "metadata": {
    "ExecuteTime": {
     "end_time": "2019-12-16T12:37:56.496016Z",
     "start_time": "2019-12-16T12:37:56.489031Z"
    }
   },
   "outputs": [
    {
     "data": {
      "text/plain": [
       "7.332530886964573"
      ]
     },
     "execution_count": 13,
     "metadata": {},
     "output_type": "execute_result"
    }
   ],
   "source": [
    "getcov(X,X)"
   ]
  },
  {
   "cell_type": "markdown",
   "metadata": {},
   "source": [
    "numpy自带了协方差矩阵的计算方法，验证一下"
   ]
  },
  {
   "cell_type": "code",
   "execution_count": 14,
   "metadata": {
    "ExecuteTime": {
     "end_time": "2019-12-16T12:37:57.545204Z",
     "start_time": "2019-12-16T12:37:57.476361Z"
    }
   },
   "outputs": [
    {
     "data": {
      "text/plain": [
       "array([[7.33253089, 2.21676586],\n",
       "       [2.21676586, 1.86332846]])"
      ]
     },
     "execution_count": 14,
     "metadata": {},
     "output_type": "execute_result"
    }
   ],
   "source": [
    "C = np.cov(data_norm.T)\n",
    "C"
   ]
  },
  {
   "cell_type": "markdown",
   "metadata": {},
   "source": [
    "# 计算协方差矩阵的特征向量和特征值"
   ]
  },
  {
   "cell_type": "code",
   "execution_count": 15,
   "metadata": {
    "ExecuteTime": {
     "end_time": "2019-12-16T12:37:59.454098Z",
     "start_time": "2019-12-16T12:37:59.425178Z"
    }
   },
   "outputs": [],
   "source": [
    "#计算特征值和特征向量\n",
    "vals, vecs = np.linalg.eig(C)\n",
    "#重新排序，从大到小\n",
    "vecs = vecs[:,np.argsort(-vals)]\n",
    "vals = vals[np.argsort(-vals)]\n"
   ]
  },
  {
   "cell_type": "code",
   "execution_count": 16,
   "metadata": {
    "ExecuteTime": {
     "end_time": "2019-12-16T12:38:00.160511Z",
     "start_time": "2019-12-16T12:38:00.153529Z"
    }
   },
   "outputs": [
    {
     "data": {
      "text/plain": [
       "(8.118170385604765, array([0.94255563, 0.33404923]))"
      ]
     },
     "execution_count": 16,
     "metadata": {},
     "output_type": "execute_result"
    }
   ],
   "source": [
    "#第一个特征值对应的特征向量\n",
    "vals[0],vecs[:,0]"
   ]
  },
  {
   "cell_type": "code",
   "execution_count": 17,
   "metadata": {
    "ExecuteTime": {
     "end_time": "2019-12-16T12:38:00.710008Z",
     "start_time": "2019-12-16T12:38:00.702029Z"
    }
   },
   "outputs": [
    {
     "data": {
      "text/plain": [
       "(1.0776889576956008, array([-0.33404923,  0.94255563]))"
      ]
     },
     "execution_count": 17,
     "metadata": {},
     "output_type": "execute_result"
    }
   ],
   "source": [
    "#第二个特征值对应的特征向量\n",
    "vals[1],vecs[:,1]"
   ]
  },
  {
   "cell_type": "markdown",
   "metadata": {},
   "source": [
    "这时候，相当于已经在数据中定义了两个轴，第一个轴的方向是第一个特征向量$v_1$，第二个轴的方向是第二个特征向量$v_2$\n"
   ]
  },
  {
   "cell_type": "code",
   "execution_count": 18,
   "metadata": {
    "ExecuteTime": {
     "end_time": "2019-12-16T12:38:06.555409Z",
     "start_time": "2019-12-16T12:38:06.365913Z"
    }
   },
   "outputs": [
    {
     "data": {
      "image/png": "[encoded data removed]",
      "text/plain": [
       "<Figure size 576x576 with 1 Axes>"
      ]
     },
     "metadata": {
      "needs_background": "light"
     },
     "output_type": "display_data"
    }
   ],
   "source": [
    "import matplotlib.pyplot as plt\n",
    "#设置图大小\n",
    "size = 15\n",
    "\n",
    "plt.figure(1,(8,8))\n",
    "\n",
    "plt.scatter(data[:,0],data[:,1],label='origin data')\n",
    "\n",
    "i=0\n",
    "ev = np.array([vecs[:,i]*-1,vecs[:,i]])*size\n",
    "ev = (ev+data.mean(0))\n",
    "plt.plot(ev[:,0],ev[:,1],label = 'eigen vector '+str(i+1))\n",
    "\n",
    "i=1\n",
    "ev = np.array([vecs[:,i]*-1,vecs[:,i]])*size\n",
    "ev = (ev+data.mean(0))\n",
    "plt.plot(ev[:,0],ev[:,1],label = 'eigen vector '+str(i+1))\n",
    "\n",
    "#plt.plot(vecs[:,1]*-10,vecs[:,1]*10)\n",
    "\n",
    "#画一下x轴y轴\n",
    "plt.plot([-size,size],[0,0],c='black')\n",
    "plt.plot([0,0],[-size,size],c='black')\n",
    "plt.xlim(-size,size)\n",
    "plt.ylim(-size,size)\n",
    "plt.legend()\n",
    "plt.show()"
   ]
  },
  {
   "cell_type": "markdown",
   "metadata": {
    "ExecuteTime": {
     "end_time": "2019-09-26T02:32:47.162754Z",
     "start_time": "2019-09-26T02:32:47.155803Z"
    }
   },
   "source": [
    "如果用PCA把$m$个维度的数据降维成$k$个维度，即只用前$k$个主成分来表示"
   ]
  },
  {
   "cell_type": "code",
   "execution_count": 19,
   "metadata": {
    "ExecuteTime": {
     "end_time": "2019-09-28T07:49:29.765196Z",
     "start_time": "2019-09-28T07:49:29.758212Z"
    }
   },
   "outputs": [
    {
     "data": {
      "text/plain": [
       "array([[ 0.81438017],\n",
       "       [ 1.11334197],\n",
       "       [-1.12648198],\n",
       "       [-0.56103644],\n",
       "       [ 3.80756812],\n",
       "       [ 2.7875824 ],\n",
       "       [-0.10965282],\n",
       "       [-4.00217468],\n",
       "       [-5.07462271],\n",
       "       [ 2.35109598]])"
      ]
     },
     "execution_count": 19,
     "metadata": {},
     "output_type": "execute_result"
    }
   ],
   "source": [
    "#数据在主成分1上的投影坐标是Y\n",
    "k=1\n",
    "Q = vecs[:,:k]\n",
    "Y = np.matmul(data_norm,Q)\n",
    "Y"
   ]
  },
  {
   "cell_type": "code",
   "execution_count": 20,
   "metadata": {
    "ExecuteTime": {
     "end_time": "2019-09-28T07:49:37.877532Z",
     "start_time": "2019-09-28T07:49:37.871519Z"
    }
   },
   "outputs": [
    {
     "data": {
      "text/plain": [
       "array([[ 0.76759861,  0.27204307],\n",
       "       [ 1.04938674,  0.37191103],\n",
       "       [-1.06177193, -0.37630044],\n",
       "       [-0.52880805, -0.18741379],\n",
       "       [ 3.58884476,  1.2719152 ],\n",
       "       [ 2.62745148,  0.93118976],\n",
       "       [-0.10335388, -0.03662944],\n",
       "       [-3.77227227, -1.33692337],\n",
       "       [-4.7831142 , -1.69517381],\n",
       "       [ 2.21603875,  0.7853818 ]])"
      ]
     },
     "execution_count": 20,
     "metadata": {},
     "output_type": "execute_result"
    }
   ],
   "source": [
    "#得到去中心化的还原数据\n",
    "np.matmul(Y,Q.T)"
   ]
  },
  {
   "cell_type": "code",
   "execution_count": 21,
   "metadata": {
    "ExecuteTime": {
     "end_time": "2019-09-28T07:49:49.490889Z",
     "start_time": "2019-09-28T07:49:49.482910Z"
    }
   },
   "outputs": [
    {
     "data": {
      "text/plain": [
       "array([[6.45269482, 3.43559652],\n",
       "       [6.73448295, 3.53546448],\n",
       "       [4.62332428, 2.78725301],\n",
       "       [5.15628816, 2.97613966],\n",
       "       [9.27394097, 4.43546865],\n",
       "       [8.31254769, 4.09474321],\n",
       "       [5.58174233, 3.12692401],\n",
       "       [1.91282394, 1.82663007],\n",
       "       [0.90198202, 1.46837963],\n",
       "       [7.90113496, 3.94893525]])"
      ]
     },
     "execution_count": 21,
     "metadata": {},
     "output_type": "execute_result"
    }
   ],
   "source": [
    "#加上均值，还原数据\n",
    "data_ = np.matmul(Y,Q.T)+data.mean(0)\n",
    "data_"
   ]
  },
  {
   "cell_type": "markdown",
   "metadata": {},
   "source": [
    "# 降维重构的数据与原数据对比"
   ]
  },
  {
   "cell_type": "code",
   "execution_count": 25,
   "metadata": {
    "ExecuteTime": {
     "end_time": "2019-09-28T07:37:39.427597Z",
     "start_time": "2019-09-28T07:37:39.248080Z"
    }
   },
   "outputs": [
    {
     "data": {
      "image/png": "[encoded data removed]",
      "text/plain": [
       "<Figure size 576x576 with 1 Axes>"
      ]
     },
     "metadata": {
      "needs_background": "light"
     },
     "output_type": "display_data"
    }
   ],
   "source": [
    "\n",
    "import matplotlib.pyplot as plt\n",
    "#设置图大小\n",
    "size = 10\n",
    "\n",
    "plt.figure(1,(8,8))\n",
    "\n",
    "plt.scatter(data[:,0],data[:,1],label='origin data')\n",
    "\n",
    "plt.scatter(data_[:,0],data_[:,1],label='restructured data')\n",
    "\n",
    "i=0\n",
    "ev = np.array([vecs[:,i]*-1,vecs[:,i]])*size\n",
    "ev = (ev+data.mean(0))\n",
    "plt.plot(ev[:,0],ev[:,1],label = 'eigen vector '+str(i+1))\n",
    "\n",
    "i=1\n",
    "ev = np.array([vecs[:,i]*-1,vecs[:,i]])*size\n",
    "ev = (ev+data.mean(0))\n",
    "plt.plot(ev[:,0],ev[:,1],label = 'eigen vector '+str(i+1))\n",
    "\n",
    "#plt.plot(vecs[:,1]*-10,vecs[:,1]*10)\n",
    "\n",
    "#画一下x轴y轴\n",
    "plt.plot([-size,size],[0,0],c='black')\n",
    "plt.plot([0,0],[-size,size],c='black')\n",
    "plt.xlim(-size,size)\n",
    "plt.ylim(-size,size)\n",
    "plt.legend()\n",
    "plt.show()"
   ]
  }
 ],
 "metadata": {
  "kernelspec": {
   "display_name": "Python 3 (ipykernel)",
   "language": "python",
   "name": "python3"
  },
  "language_info": {
   "codemirror_mode": {
    "name": "ipython",
    "version": 3
   },
   "file_extension": ".py",
   "mimetype": "text/x-python",
   "name": "python",
   "nbconvert_exporter": "python",
   "pygments_lexer": "ipython3",
   "version": "3.9.12"
  },
  "toc": {
   "base_numbering": 1,
   "nav_menu": {},
   "number_sections": true,
   "sideBar": true,
   "skip_h1_title": false,
   "title_cell": "Table of Contents",
   "title_sidebar": "Contents",
   "toc_cell": false,
   "toc_position": {
    "height": "calc(100% - 180px)",
    "left": "10px",
    "top": "150px",
    "width": "320px"
   },
   "toc_section_display": true,
   "toc_window_display": true
  },
  "varInspector": {
   "cols": {
    "lenName": 16,
    "lenType": 16,
    "lenVar": 40
   },
   "kernels_config": {
    "python": {
     "delete_cmd_postfix": "",
     "delete_cmd_prefix": "del ",
     "library": "var_list.py",
     "varRefreshCmd": "print(var_dic_list())"
    },
    "r": {
     "delete_cmd_postfix": ") ",
     "delete_cmd_prefix": "rm(",
     "library": "var_list.r",
     "varRefreshCmd": "cat(var_dic_list()) "
    }
   },
   "oldHeight": 122,
   "position": {
    "height": "144px",
    "left": "1550px",
    "right": "20px",
    "top": "120px",
    "width": "350px"
   },
   "types_to_exclude": [
    "module",
    "function",
    "builtin_function_or_method",
    "instance",
    "_Feature"
   ],
   "varInspector_section_display": "block",
   "window_display": true
  }
 },
 "nbformat": 4,
 "nbformat_minor": 2
}
